{
 "cells": [
  {
   "cell_type": "markdown",
   "metadata": {
    "id": "jsrxBKwkNNRP"
   },
   "source": [
    "# Assignment 5: GANs - Kai Ponel & Hannan Mahadik "
   ]
  },
  {
   "cell_type": "markdown",
   "metadata": {
    "id": "OAWP4kmOtp_j"
   },
   "source": [
    "# Imports"
   ]
  },
  {
   "cell_type": "code",
   "execution_count": 1,
   "metadata": {
    "executionInfo": {
     "elapsed": 246,
     "status": "ok",
     "timestamp": 1684421266122,
     "user": {
      "displayName": "Hannan Javed",
      "userId": "05859164043291490840"
     },
     "user_tz": -120
    },
    "id": "ybYS84iOtgna"
   },
   "outputs": [
    {
     "name": "stderr",
     "output_type": "stream",
     "text": [
      "2023-05-18 17:47:01.347988: I tensorflow/core/platform/cpu_feature_guard.cc:193] This TensorFlow binary is optimized with oneAPI Deep Neural Network Library (oneDNN) to use the following CPU instructions in performance-critical operations:  AVX2 AVX512F FMA\n",
      "To enable them in other operations, rebuild TensorFlow with the appropriate compiler flags.\n",
      "2023-05-18 17:47:04.318610: W tensorflow/compiler/xla/stream_executor/platform/default/dso_loader.cc:64] Could not load dynamic library 'libnvinfer.so.7'; dlerror: libnvinfer.so.7: cannot open shared object file: No such file or directory; LD_LIBRARY_PATH: /usr/local/cuda-11.3/lib64:/scratch/ponel/python/lib:/usr/local/cuda-11.3/tensorRT-8.0/lib64:/usr/local/cuda-11.3/cudnn-8.2/lib64:/usr/local/cuda-11.3/nccl-2.9/lib64\n",
      "2023-05-18 17:47:04.318909: W tensorflow/compiler/xla/stream_executor/platform/default/dso_loader.cc:64] Could not load dynamic library 'libnvinfer_plugin.so.7'; dlerror: libnvinfer_plugin.so.7: cannot open shared object file: No such file or directory; LD_LIBRARY_PATH: /usr/local/cuda-11.3/lib64:/scratch/ponel/python/lib:/usr/local/cuda-11.3/tensorRT-8.0/lib64:/usr/local/cuda-11.3/cudnn-8.2/lib64:/usr/local/cuda-11.3/nccl-2.9/lib64\n",
      "2023-05-18 17:47:04.318936: W tensorflow/compiler/tf2tensorrt/utils/py_utils.cc:38] TF-TRT Warning: Cannot dlopen some TensorRT libraries. If you would like to use Nvidia GPU with TensorRT, please make sure the missing libraries mentioned above are installed properly.\n"
     ]
    }
   ],
   "source": [
    "import tensorflow as tf\n",
    "import numpy as np\n",
    "from matplotlib import pyplot as plt\n",
    "import tensorflow_probability as tfp\n",
    "# import tensorflow_datasets as tfds\n",
    "from sklearn.model_selection import train_test_split\n",
    "from tensorflow.keras import layers, models, callbacks, losses, optimizers, metrics\n",
    "from tensorflow.keras.layers import Dense, BatchNormalization, LeakyReLU, Reshape, Conv2DTranspose, Conv2D, Dropout, Flatten,Activation\n",
    "import os\n",
    "\n",
    "import matplotlib.pyplot as plt"
   ]
  },
  {
   "cell_type": "code",
   "execution_count": null,
   "metadata": {},
   "outputs": [],
   "source": []
  },
  {
   "cell_type": "code",
   "execution_count": 2,
   "metadata": {
    "executionInfo": {
     "elapsed": 404,
     "status": "ok",
     "timestamp": 1684415309833,
     "user": {
      "displayName": "Hannan Javed",
      "userId": "05859164043291490840"
     },
     "user_tz": -120
    },
    "id": "yaev7O6TV8t4"
   },
   "outputs": [],
   "source": [
    "from tensorflow.keras.preprocessing.image import ImageDataGenerator\n",
    "from tensorflow.keras.applications import MobileNetV2\n",
    "from tensorflow.keras.optimizers import Adam\n",
    "from tensorflow.keras import Sequential\n",
    "from tensorflow.keras import Model\n",
    "from tensorflow.keras.preprocessing.image import img_to_array\n",
    "from tensorflow.keras.preprocessing.image import load_img\n",
    "from keras.preprocessing import image\n",
    "import pandas as pd"
   ]
  },
  {
   "cell_type": "code",
   "execution_count": null,
   "metadata": {
    "colab": {
     "base_uri": "https://localhost:8080/"
    },
    "executionInfo": {
     "elapsed": 19123,
     "status": "ok",
     "timestamp": 1684415329993,
     "user": {
      "displayName": "Hannan Javed",
      "userId": "05859164043291490840"
     },
     "user_tz": -120
    },
    "id": "dIJ7PYgoSk25",
    "outputId": "298d92b0-0a13-467e-b8e2-41c93bbbd740"
   },
   "outputs": [],
   "source": []
  },
  {
   "cell_type": "code",
   "execution_count": 3,
   "metadata": {
    "id": "eflq66evSpi_"
   },
   "outputs": [],
   "source": [
    "path_to_data = '/content/drive/MyDrive/ColabNotebooks/LGM_Hannan_Kai/Task 5/animals'"
   ]
  },
  {
   "cell_type": "markdown",
   "metadata": {
    "id": "-FToAN0qT81y"
   },
   "source": [
    "# Dataset"
   ]
  },
  {
   "cell_type": "code",
   "execution_count": null,
   "metadata": {
    "id": "Ztjl8DCAUvzk"
   },
   "outputs": [],
   "source": []
  },
  {
   "cell_type": "code",
   "execution_count": null,
   "metadata": {
    "colab": {
     "base_uri": "https://localhost:8080/"
    },
    "executionInfo": {
     "elapsed": 370,
     "status": "ok",
     "timestamp": 1684337586437,
     "user": {
      "displayName": "Hannan Javed",
      "userId": "05859164043291490840"
     },
     "user_tz": -120
    },
    "id": "S3TFtoeWVvdM",
    "outputId": "9cf21dc7-8a15-4c2f-805c-bead6f331b6b"
   },
   "outputs": [],
   "source": []
  },
  {
   "cell_type": "code",
   "execution_count": null,
   "metadata": {
    "colab": {
     "base_uri": "https://localhost:8080/"
    },
    "executionInfo": {
     "elapsed": 268,
     "status": "ok",
     "timestamp": 1684337626635,
     "user": {
      "displayName": "Hannan Javed",
      "userId": "05859164043291490840"
     },
     "user_tz": -120
    },
    "id": "tJOKzOZ-V2Ib",
    "outputId": "86a2ccdd-1522-4c21-a770-047daf7bab54"
   },
   "outputs": [],
   "source": []
  },
  {
   "cell_type": "code",
   "execution_count": null,
   "metadata": {
    "colab": {
     "base_uri": "https://localhost:8080/"
    },
    "executionInfo": {
     "elapsed": 3,
     "status": "ok",
     "timestamp": 1684337695354,
     "user": {
      "displayName": "Hannan Javed",
      "userId": "05859164043291490840"
     },
     "user_tz": -120
    },
    "id": "clvwDfavWXPN",
    "outputId": "71c72388-79e9-49ea-f121-e53634bcae9d"
   },
   "outputs": [],
   "source": []
  },
  {
   "cell_type": "code",
   "execution_count": null,
   "metadata": {
    "colab": {
     "base_uri": "https://localhost:8080/",
     "height": 1000
    },
    "executionInfo": {
     "elapsed": 60647,
     "status": "ok",
     "timestamp": 1684338070499,
     "user": {
      "displayName": "Hannan Javed",
      "userId": "05859164043291490840"
     },
     "user_tz": -120
    },
    "id": "snL-2zsCXAq7",
    "outputId": "e73aedb5-42d4-4431-b9f7-b7a5982a16fd"
   },
   "outputs": [],
   "source": []
  },
  {
   "cell_type": "markdown",
   "metadata": {
    "id": "0oRu0rWWYybP"
   },
   "source": [
    "# MNIST\n"
   ]
  },
  {
   "cell_type": "code",
   "execution_count": 4,
   "metadata": {},
   "outputs": [],
   "source": [
    "with np.load('/data/project/FoolingDetection/mnist.npz') as data:\n",
    "    x_train, y_train = data['x_train'], data['y_train']\n",
    "    x_test, y_test = data['x_test'], data['y_test']\n",
    "\n",
    "x_train = x_train/255\n",
    "x_test = x_test/255\n",
    "\n",
    "x_train = x_train.reshape(-1, 28, 28, 1)\n",
    "x_test = x_test.reshape(-1, 28, 28, 1)\n",
    "\n",
    "batch_size = 1024\n",
    "train_dataset = tf.data.Dataset.from_tensor_slices((x_train, y_train))\n",
    "train_dataset = train_dataset.batch(batch_size)"
   ]
  },
  {
   "cell_type": "code",
   "execution_count": 5,
   "metadata": {
    "colab": {
     "base_uri": "https://localhost:8080/"
    },
    "executionInfo": {
     "elapsed": 348,
     "status": "ok",
     "timestamp": 1684415330338,
     "user": {
      "displayName": "Hannan Javed",
      "userId": "05859164043291490840"
     },
     "user_tz": -120
    },
    "id": "7SNOjstL3RV-",
    "outputId": "fec9a9c9-20ac-459d-ad83-971436c627d4"
   },
   "outputs": [],
   "source": [
    "# ds = tf.keras.datasets.mnist\n",
    "# (train_images, train_labels), (test_images, test_labels) = ds.load_data()"
   ]
  },
  {
   "cell_type": "code",
   "execution_count": 6,
   "metadata": {
    "executionInfo": {
     "elapsed": 2,
     "status": "ok",
     "timestamp": 1684415330338,
     "user": {
      "displayName": "Hannan Javed",
      "userId": "05859164043291490840"
     },
     "user_tz": -120
    },
    "id": "Iw976c5X4Rzy"
   },
   "outputs": [],
   "source": [
    "train_images = x_train.reshape(x_train.shape[0], 28, 28, 1).astype('float32')\n",
    "train_images = (train_images - 127.5) / 127.5  # Normalize the images to [-1, 1]"
   ]
  },
  {
   "cell_type": "code",
   "execution_count": 7,
   "metadata": {
    "executionInfo": {
     "elapsed": 2,
     "status": "ok",
     "timestamp": 1684415330338,
     "user": {
      "displayName": "Hannan Javed",
      "userId": "05859164043291490840"
     },
     "user_tz": -120
    },
    "id": "DNSGunaJa_LV"
   },
   "outputs": [],
   "source": [
    "BUFFER_SIZE = 60000\n",
    "BATCH_SIZE = 256"
   ]
  },
  {
   "cell_type": "code",
   "execution_count": 8,
   "metadata": {
    "executionInfo": {
     "elapsed": 353,
     "status": "ok",
     "timestamp": 1684415793255,
     "user": {
      "displayName": "Hannan Javed",
      "userId": "05859164043291490840"
     },
     "user_tz": -120
    },
    "id": "YTW43yPLbA85"
   },
   "outputs": [],
   "source": [
    "# Batch and shuffle the data\n",
    "train_dataset = tf.data.Dataset.from_tensor_slices(train_images).shuffle(BUFFER_SIZE).batch(BATCH_SIZE)\n",
    "# test_dataset = tf.data.Dataset.from_tensor_slices(test_images).batch(BATCH_SIZE)"
   ]
  },
  {
   "cell_type": "markdown",
   "metadata": {
    "id": "QoZqMHi3Z5Fj"
   },
   "source": [
    "# Model"
   ]
  },
  {
   "cell_type": "code",
   "execution_count": 9,
   "metadata": {
    "executionInfo": {
     "elapsed": 2,
     "status": "ok",
     "timestamp": 1684415334087,
     "user": {
      "displayName": "Hannan Javed",
      "userId": "05859164043291490840"
     },
     "user_tz": -120
    },
    "id": "rDFFMlUFZ8Xt"
   },
   "outputs": [],
   "source": [
    "LATENT_DIM = 10"
   ]
  },
  {
   "cell_type": "markdown",
   "metadata": {
    "id": "rXR0a8P8Z6kC"
   },
   "source": [
    "## Generator"
   ]
  },
  {
   "cell_type": "code",
   "execution_count": 10,
   "metadata": {
    "executionInfo": {
     "elapsed": 327,
     "status": "ok",
     "timestamp": 1684421851693,
     "user": {
      "displayName": "Hannan Javed",
      "userId": "05859164043291490840"
     },
     "user_tz": -120
    },
    "id": "CEgFnrwIbR_L"
   },
   "outputs": [],
   "source": [
    "class Generator(layers.Layer):\n",
    "\n",
    "  def __init__(self, LATENT_DIM):\n",
    "    self.LATENT_DIM = LATENT_DIM\n",
    "\n",
    "    super(Generator, self).__init__()\n",
    "\n",
    "  def build(self, input_shape):\n",
    "    BATCH_DIM = input_shape[0]\n",
    "\n",
    "    self.dense1 = Dense(7*7*256, input_shape=(BATCH_DIM, self.LATENT_DIM))\n",
    "    self.bn1 = BatchNormalization()\n",
    "    self.lr1 = LeakyReLU()\n",
    "\n",
    "    self.reshape = Reshape((7, 7, 256), input_shape = (BATCH_DIM, 7*7*256))\n",
    "    # assert model.output_shape == (None, 7, 7, 256)  # Note: None is the batch size\n",
    "\n",
    "    self.convt1 = Conv2DTranspose(128, 5, strides=1, padding='same', input_shape = (BATCH_DIM, 7, 7, 256))\n",
    "    # assert model.output_shape == (None, 7, 7, 128)\n",
    "    self.bn2 = BatchNormalization()\n",
    "    self.lr2 = LeakyReLU()\n",
    "\n",
    "    self.convt2 = Conv2DTranspose(64, 5, strides=2, padding='same', input_shape = (BATCH_DIM, 14, 14, 128))\n",
    "    # assert model.output_shape == (None, 14, 14, 64)\n",
    "    self.bn3 = BatchNormalization()\n",
    "    self.lr3 = LeakyReLU()\n",
    "\n",
    "    self.convt3 = Conv2DTranspose(1, 5, strides=2, padding='same', input_shape = (BATCH_DIM, 28, 28, 64))\n",
    "    # assert model.output_shape == (None, 28, 28, 1)\n",
    "\n",
    "\n",
    "  @tf.function\n",
    "  def call(self, noise):\n",
    "    x = self.dense1(noise)\n",
    "    x = self.bn1(x)\n",
    "    x = self.lr1(x)\n",
    "    x = self.reshape(x) \n",
    "\n",
    "    x = self.convt1(x)\n",
    "    x = self.bn2(x)\n",
    "    x = self.lr2(x)\n",
    "\n",
    "    x = self.convt2(x)\n",
    "    x = self.bn3(x)\n",
    "    x = self.lr3(x)\n",
    "\n",
    "    x = self.convt3(x)\n",
    "\n",
    "    return x"
   ]
  },
  {
   "cell_type": "code",
   "execution_count": 11,
   "metadata": {
    "executionInfo": {
     "elapsed": 377,
     "status": "ok",
     "timestamp": 1684422038009,
     "user": {
      "displayName": "Hannan Javed",
      "userId": "05859164043291490840"
     },
     "user_tz": -120
    },
    "id": "K7o_2BG0fk-P"
   },
   "outputs": [],
   "source": [
    "generator = Generator(LATENT_DIM)\n",
    "\n",
    "noise = tf.random.normal([1, 100])"
   ]
  },
  {
   "cell_type": "code",
   "execution_count": 12,
   "metadata": {
    "colab": {
     "base_uri": "https://localhost:8080/",
     "height": 447
    },
    "executionInfo": {
     "elapsed": 688,
     "status": "ok",
     "timestamp": 1684421858290,
     "user": {
      "displayName": "Hannan Javed",
      "userId": "05859164043291490840"
     },
     "user_tz": -120
    },
    "id": "PIjpSpUCg_Mv",
    "outputId": "1e62b1d5-3542-45d7-9af8-61f6579d0b29"
   },
   "outputs": [
    {
     "data": {
      "text/plain": [
       "<matplotlib.image.AxesImage at 0x7f7a281e9fa0>"
      ]
     },
     "execution_count": 12,
     "metadata": {},
     "output_type": "execute_result"
    },
    {
     "data": {
      "image/png": "[encoded data removed]",
      "text/plain": [
       "<Figure size 432x288 with 1 Axes>"
      ]
     },
     "metadata": {
      "needs_background": "light"
     },
     "output_type": "display_data"
    }
   ],
   "source": [
    "generated_image = generator(noise, training=False)\n",
    "\n",
    "plt.imshow(generated_image[0, :, :, 0], cmap='gray')"
   ]
  },
  {
   "cell_type": "markdown",
   "metadata": {
    "id": "HgJMaABPZ_wF"
   },
   "source": [
    "## Discriminator"
   ]
  },
  {
   "cell_type": "code",
   "execution_count": 13,
   "metadata": {
    "executionInfo": {
     "elapsed": 1,
     "status": "ok",
     "timestamp": 1684421860477,
     "user": {
      "displayName": "Hannan Javed",
      "userId": "05859164043291490840"
     },
     "user_tz": -120
    },
    "id": "IHHrdIgshZTW"
   },
   "outputs": [],
   "source": [
    "class Discriminator(layers.Layer):\n",
    "\n",
    "  def __init__(self):\n",
    "    super(Discriminator, self).__init__()\n",
    "\n",
    "  def build(self, input_shape):\n",
    "    self.conv1 = Conv2D(64, 5, strides=2, padding='same', input_shape=(28, 28, 1))\n",
    "    self.lr1 = LeakyReLU()\n",
    "    self.do1 = Dropout(0.3)\n",
    "\n",
    "    self.conv2 = Conv2D(256, 5, strides=2, padding='same')\n",
    "    self.lr2 = LeakyReLU()\n",
    "    self.do2 = Dropout(0.3)\n",
    "\n",
    "    self.flatten = Flatten()\n",
    "    self.dense = Dense(1)\n",
    "\n",
    "  @tf.function\n",
    "  def call(self, input):\n",
    "    x = self.conv1(input)\n",
    "    x = self.lr1(x)\n",
    "    x = self.do1(x) \n",
    "\n",
    "    x = self.conv2(x)\n",
    "    x = self.lr2(x)\n",
    "    x = self.do2(x)\n",
    "\n",
    "    x = self.flatten(x)\n",
    "    x = self.dense(x)\n",
    "\n",
    "    return x\n"
   ]
  },
  {
   "cell_type": "code",
   "execution_count": 14,
   "metadata": {
    "colab": {
     "base_uri": "https://localhost:8080/"
    },
    "executionInfo": {
     "elapsed": 918,
     "status": "ok",
     "timestamp": 1684415344553,
     "user": {
      "displayName": "Hannan Javed",
      "userId": "05859164043291490840"
     },
     "user_tz": -120
    },
    "id": "WIfmZx8piz8k",
    "outputId": "a991f52c-fadc-4ee0-9d12-4dcbd8c06839"
   },
   "outputs": [
    {
     "name": "stdout",
     "output_type": "stream",
     "text": [
      "tf.Tensor([[-0.00082431]], shape=(1, 1), dtype=float32)\n"
     ]
    }
   ],
   "source": [
    "discriminator = Discriminator()\n",
    "decision = discriminator(generated_image)\n",
    "print (decision)"
   ]
  },
  {
   "cell_type": "markdown",
   "metadata": {
    "id": "hl_Y0SdsjPvn"
   },
   "source": [
    "## GAN"
   ]
  },
  {
   "cell_type": "code",
   "execution_count": 15,
   "metadata": {
    "id": "HQeDnt1ljgLX"
   },
   "outputs": [],
   "source": [
    "# def discriminator_loss(real_output, fake_output):\n",
    "#     real_loss = cross_entropy(tf.ones_like(real_output), real_output)\n",
    "#     fake_loss = cross_entropy(tf.zeros_like(fake_output), fake_output)\n",
    "#     total_loss = real_loss + fake_loss\n",
    "#     return total_loss"
   ]
  },
  {
   "cell_type": "code",
   "execution_count": 16,
   "metadata": {
    "id": "yJqRTtRWjhrZ"
   },
   "outputs": [],
   "source": [
    "# def generator_loss(fake_output):\n",
    "#     return cross_entropy(tf.ones_like(fake_output), fake_output)"
   ]
  },
  {
   "cell_type": "code",
   "execution_count": 50,
   "metadata": {
    "executionInfo": {
     "elapsed": 202,
     "status": "ok",
     "timestamp": 1684423988575,
     "user": {
      "displayName": "Hannan Javed",
      "userId": "05859164043291490840"
     },
     "user_tz": -120
    },
    "id": "ddpGpgz0jm9r"
   },
   "outputs": [],
   "source": [
    "class DC_GAN(tf.keras.Model):\n",
    "\n",
    "  def __init__(self, LATENT_DIM, distribution, **kwargs):\n",
    "    super(DC_GAN, self).__init__(**kwargs)\n",
    "\n",
    "    self.LATENT_DIM = LATENT_DIM\n",
    "    self.distribution = distribution\n",
    "    self.generator = Generator(LATENT_DIM)\n",
    "    self.discriminator = Discriminator()\n",
    "\n",
    "\n",
    "  def compile(self):\n",
    "    super(DC_GAN, self).compile()\n",
    "    \n",
    "    self.generator_optimizer = optimizers.Adam(1e-4)\n",
    "    self.discriminator_optimizer = optimizers.Adam(1e-4)\n",
    "    \n",
    "    self.generator_loss = tf.keras.losses.BinaryCrossentropy(from_logits=True) \n",
    "    self.discriminator_loss = tf.keras.losses.BinaryCrossentropy(from_logits=True) \n",
    "\n",
    "    self.generator_loss_metric = tf.keras.metrics.Mean()\n",
    "    self.discriminator_loss_metric = tf.keras.metrics.Mean()\n",
    "\n",
    "  @property\n",
    "  def metrics(self):\n",
    "    return[self.generator_loss_metric, self.discriminator_loss_metric]\n",
    "\n",
    "  @tf.function\n",
    "  def train_step(self, input):\n",
    "    batch_size = tf.shape(input)[0]\n",
    "\n",
    "    # Train Discriminator    \n",
    "    start = tf.random.normal([batch_size, self.LATENT_DIM])\n",
    "    generated_batch = self.generator(start)\n",
    "\n",
    "    real_labels = tf.ones((batch_size, 1))\n",
    "    generated_labels = tf.zeros((batch_size, 1))\n",
    "\n",
    "    full_batch = tf.concat([input, generated_batch], axis=0)\n",
    "    full_labels = tf.concat([real_labels, generated_labels], axis=0)\n",
    "\n",
    "    with tf.GradientTape() as disc_tape:\n",
    "        preds = self.discriminator(full_batch, training=True)\n",
    "        disc_loss = self.discriminator_loss(full_labels, preds)\n",
    "\n",
    "    gradients_of_discriminator = disc_tape.gradient(disc_loss, self.discriminator.trainable_variables)\n",
    "    self.discriminator_optimizer.apply_gradients(zip(gradients_of_discriminator, self.discriminator.trainable_variables))\n",
    "\n",
    "    # Train Generator\n",
    "    with tf.GradientTape() as gen_tape:\n",
    "        start = tf.random.normal([batch_size, self.LATENT_DIM])\n",
    "        generated_batch = self.generator(start, training=True)\n",
    "        d_output = self.discriminator(generated_batch)\n",
    "        gen_loss = self.generator_loss(real_labels, d_output)\n",
    "\n",
    "    gradients_of_generator = gen_tape.gradient(gen_loss, self.generator.trainable_variables)\n",
    "    self.generator_optimizer.apply_gradients(zip(gradients_of_generator, self.generator.trainable_variables))\n",
    "\n",
    "    self.generator_loss_metric.update_state(gen_loss)\n",
    "    self.discriminator_loss_metric.update_state(disc_loss)\n",
    "\n",
    "    return {\n",
    "        \"Discriminator Loss\": self.discriminator_loss_metric.result(),\n",
    "        \"Generator Loss\": self.generator_loss_metric.result(),\n",
    "    }\n",
    "\n",
    "\n"
   ]
  },
  {
   "cell_type": "code",
   "execution_count": 51,
   "metadata": {
    "executionInfo": {
     "elapsed": 183,
     "status": "ok",
     "timestamp": 1684420416726,
     "user": {
      "displayName": "Hannan Javed",
      "userId": "05859164043291490840"
     },
     "user_tz": -120
    },
    "id": "duVHd5s5tXxm"
   },
   "outputs": [],
   "source": [
    "distribution = tfp.distributions.Normal(0,1)"
   ]
  },
  {
   "cell_type": "code",
   "execution_count": 52,
   "metadata": {
    "executionInfo": {
     "elapsed": 1010,
     "status": "ok",
     "timestamp": 1684423997196,
     "user": {
      "displayName": "Hannan Javed",
      "userId": "05859164043291490840"
     },
     "user_tz": -120
    },
    "id": "-cMiV0pQ2Lax"
   },
   "outputs": [],
   "source": [
    "DCGAN = DC_GAN(LATENT_DIM, distribution)\n",
    "DCGAN.compile()"
   ]
  },
  {
   "cell_type": "code",
   "execution_count": 53,
   "metadata": {
    "executionInfo": {
     "elapsed": 708,
     "status": "ok",
     "timestamp": 1684415348033,
     "user": {
      "displayName": "Hannan Javed",
      "userId": "05859164043291490840"
     },
     "user_tz": -120
    },
    "id": "RMK4RO_R9GSJ"
   },
   "outputs": [],
   "source": [
    "path = '/content/drive/MyDrive/ColabNotebooks/LGM_Hannan_Kai/Task 5'"
   ]
  },
  {
   "cell_type": "code",
   "execution_count": 54,
   "metadata": {
    "executionInfo": {
     "elapsed": 1,
     "status": "ok",
     "timestamp": 1684415348936,
     "user": {
      "displayName": "Hannan Javed",
      "userId": "05859164043291490840"
     },
     "user_tz": -120
    },
    "id": "tXodtGhS47Dz"
   },
   "outputs": [],
   "source": [
    "checkpoint_dir = path + '/training_checkpoints'\n",
    "# checkpoint_prefix = os.path.join(checkpoint_dir, \"ckpt\")\n",
    "checkpoint = tf.keras.callbacks.ModelCheckpoint(filepath=checkpoint_dir,\n",
    "                                                 save_weights_only=True,\n",
    "                                                 verbose=1)"
   ]
  },
  {
   "cell_type": "code",
   "execution_count": 57,
   "metadata": {
    "executionInfo": {
     "elapsed": 222,
     "status": "ok",
     "timestamp": 1684423966957,
     "user": {
      "displayName": "Hannan Javed",
      "userId": "05859164043291490840"
     },
     "user_tz": -120
    },
    "id": "QwjdYL1795UG"
   },
   "outputs": [],
   "source": [
    "import os\n",
    "epoch = -1\n",
    "save_dir = '/home/ponel/lgm5'\n",
    "\n",
    "class ImShowCallback(tf.keras.callbacks.Callback):\n",
    "    def on_train_batch_begin(self, batch, logs=None):\n",
    "        global epoch\n",
    "        if batch == 100:\n",
    "            epoch = epoch + 1\n",
    "            if epoch % 100 == 0:\n",
    "                noise = self.model.distribution.sample((5, self.model.LATENT_DIM))\n",
    "                gens = self.model.generator(noise)\n",
    "\n",
    "                plt.figure(figsize=(15, 3))\n",
    "                for i, img in enumerate(gens):\n",
    "                    plt.subplot(1, 5, i + 1)\n",
    "                    plt.imshow(img)\n",
    "                    plt.axis(\"off\")\n",
    "                plt.suptitle(\"training step \" + str(epoch))\n",
    "                plt.show()\n",
    "\n",
    "                # Save plot to local disk\n",
    "                if not os.path.exists(save_dir):\n",
    "                    os.makedirs(save_dir)\n",
    "                filename = f'epoch_{epoch}.png'\n",
    "                filepath = os.path.join(save_dir, filename)\n",
    "                plt.savefig(filepath)"
   ]
  },
  {
   "cell_type": "code",
   "execution_count": null,
   "metadata": {
    "colab": {
     "base_uri": "https://localhost:8080/",
     "height": 1000
    },
    "executionInfo": {
     "elapsed": 20799,
     "status": "error",
     "timestamp": 1684424027009,
     "user": {
      "displayName": "Hannan Javed",
      "userId": "05859164043291490840"
     },
     "user_tz": -120
    },
    "id": "nouj-JRO-Dr4",
    "outputId": "4112a878-32f4-4a35-cce0-8594ac9fea26"
   },
   "outputs": [
    {
     "name": "stdout",
     "output_type": "stream",
     "text": [
      "Epoch 1/25000\n",
      " 99/235 [===========>..................] - ETA: 4s - Discriminator Loss: 0.3064 - Generator Loss: 1.6906"
     ]
    },
    {
     "data": {
      "image/png": "[encoded data removed]",
      "text/plain": [
       "<Figure size 1080x216 with 5 Axes>"
      ]
     },
     "metadata": {
      "needs_background": "light"
     },
     "output_type": "display_data"
    },
    {
     "name": "stdout",
     "output_type": "stream",
     "text": [
      "235/235 [==============================] - 8s 34ms/step - Discriminator Loss: 0.3080 - Generator Loss: 2.0110\n",
      "Epoch 2/25000\n",
      "235/235 [==============================] - 8s 32ms/step - Discriminator Loss: 0.3708 - Generator Loss: 1.4629\n",
      "Epoch 3/25000\n",
      "235/235 [==============================] - 8s 33ms/step - Discriminator Loss: 0.6220 - Generator Loss: 0.8204\n",
      "Epoch 4/25000\n",
      "235/235 [==============================] - 8s 33ms/step - Discriminator Loss: 0.5132 - Generator Loss: 1.6323\n",
      "Epoch 5/25000\n",
      "235/235 [==============================] - 8s 32ms/step - Discriminator Loss: 0.5242 - Generator Loss: 1.4576\n",
      "Epoch 6/25000\n",
      " 33/235 [===>..........................] - ETA: 6s - Discriminator Loss: 0.7222 - Generator Loss: 1.3951"
     ]
    }
   ],
   "source": [
    "DCGAN.fit(train_dataset, epochs=25000, callbacks = [ImShowCallback()])"
   ]
  },
  {
   "cell_type": "code",
   "execution_count": null,
   "metadata": {},
   "outputs": [],
   "source": []
  }
 ],
 "metadata": {
  "accelerator": "GPU",
  "colab": {
   "authorship_tag": "ABX9TyMr4DwhyNV4TRsoIVXCCmYl",
   "collapsed_sections": [
    "-FToAN0qT81y"
   ],
   "gpuType": "T4",
   "provenance": []
  },
  "gpuClass": "standard",
  "kernelspec": {
   "display_name": "Python 3 (ipykernel)",
   "language": "python",
   "name": "python3"
  },
  "language_info": {
   "codemirror_mode": {
    "name": "ipython",
    "version": 3
   },
   "file_extension": ".py",
   "mimetype": "text/x-python",
   "name": "python",
   "nbconvert_exporter": "python",
   "pygments_lexer": "ipython3",
   "version": "3.8.10"
  }
 },
 "nbformat": 4,
 "nbformat_minor": 1
}
