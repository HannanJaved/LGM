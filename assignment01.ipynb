{
 "cells": [
  {
   "cell_type": "code",
   "execution_count": 1,
   "metadata": {},
   "outputs": [],
   "source": [
    "import numpy as np\n",
    "from matplotlib import pyplot as plt"
   ]
  },
  {
   "cell_type": "code",
   "execution_count": 2,
   "metadata": {},
   "outputs": [],
   "source": [
    "sample_size = 10000\n",
    "n_experiments = 1000\n",
    "\n",
    "sick_prob = 0.01\n",
    "test_prob_if_sick = 0.999\n",
    "test_prob_if_healthy = 0.01"
   ]
  },
  {
   "cell_type": "code",
   "execution_count": 3,
   "metadata": {},
   "outputs": [
    {
     "data": {
      "image/png": "[encoded data removed]",
      "text/plain": [
       "<Figure size 432x288 with 1 Axes>"
      ]
     },
     "metadata": {
      "needs_background": "light"
     },
     "output_type": "display_data"
    }
   ],
   "source": [
    "all_probs = []\n",
    "\n",
    "# each experiment uses sample_size many people.\n",
    "# in real life, we obviously couldn't repeat the experiment 1000 times (we need new people every time).\n",
    "# this is just to show how much variance there is between repetitions -- results are unreliable!\n",
    "# also see what happens when you decrease sample_size.\n",
    "for experiement_ind in range(n_experiments):\n",
    "    population_sickness = np.random.rand(sample_size)\n",
    "    is_sick = population_sickness < sick_prob\n",
    "\n",
    "    population_tests = np.random.rand(sample_size)\n",
    "    sick_people = population_tests[is_sick]\n",
    "    healthy_people = population_tests[np.logical_not(is_sick)]\n",
    "    \n",
    "    positive_and_sick = sick_people < test_prob_if_sick\n",
    "    positive_and_healthy = healthy_people < test_prob_if_healthy\n",
    "    \n",
    "    denominator = sum(positive_and_healthy) + sum(positive_and_sick)\n",
    "    if denominator > 0:\n",
    "        prob_sick = sum(positive_and_sick) / denominator\n",
    "    else:\n",
    "        prob_sick = 0.\n",
    "        \n",
    "    all_probs.append(prob_sick)\n",
    "    \n",
    "all_probs = np.array(all_probs)\n",
    "\n",
    "plt.hist(all_probs, bins=50)\n",
    "plt.show()"
   ]
  },
  {
   "cell_type": "code",
   "execution_count": 4,
   "metadata": {},
   "outputs": [
    {
     "data": {
      "image/png": "[encoded data removed]",
      "text/plain": [
       "<Figure size 432x288 with 1 Axes>"
      ]
     },
     "metadata": {
      "needs_background": "light"
     },
     "output_type": "display_data"
    }
   ],
   "source": [
    "# this is a faster, parallelized version, but it may be harder to understand than the loop above\n",
    "population_sickness = np.random.rand(n_experiments, sample_size)\n",
    "is_sick = population_sickness < sick_prob\n",
    "population_tests = np.random.rand(n_experiments, sample_size)\n",
    "\n",
    "positive_and_sick = is_sick * (population_tests < test_prob_if_sick)\n",
    "positive_and_healthy = np.logical_not(is_sick) * (population_tests < test_prob_if_healthy)\n",
    "\n",
    "denominator = np.sum(positive_and_sick, axis=1) + np.sum(positive_and_healthy, axis=1)\n",
    "\n",
    "prob_sick = np.sum(positive_and_sick, axis=1) / denominator\n",
    "\n",
    "plt.hist(prob_sick, bins=50)\n",
    "plt.show()"
   ]
  },
  {
   "cell_type": "code",
   "execution_count": 5,
   "metadata": {},
   "outputs": [
    {
     "name": "stdout",
     "output_type": "stream",
     "text": [
      "0.5038578352406939 0.034827588719643844\n"
     ]
    }
   ],
   "source": [
    "# even with 10000 people, we get quite a range of results (about 3% standard deviation)\n",
    "mean_prob = np.mean(all_probs)\n",
    "stddev = np.std(all_probs)\n",
    "\n",
    "print(mean_prob, stddev)"
   ]
  },
  {
   "cell_type": "code",
   "execution_count": 6,
   "metadata": {},
   "outputs": [
    {
     "name": "stdout",
     "output_type": "stream",
     "text": [
      "0.502262443438914\n"
     ]
    }
   ],
   "source": [
    "# bayes rule:\n",
    "# we end up having to compute (0.999*0.01) / (0.999*0.01 + 0.01*0.99)\n",
    "exact_result = 0.999*0.01 / (0.999*0.01 + 0.01*0.99)\n",
    "print(exact_result)"
   ]
  },
  {
   "cell_type": "code",
   "execution_count": 7,
   "metadata": {},
   "outputs": [
    {
     "name": "stdout",
     "output_type": "stream",
     "text": [
      "1.0202936405097388e-05\n"
     ]
    }
   ],
   "source": [
    "# conversely, prob of sickness despite negative test:\n",
    "converse = 0.001*0.01 / (0.001*0.01 + 0.99*0.99)\n",
    "print(converse)  # very tiny!"
   ]
  },
  {
   "cell_type": "code",
   "execution_count": 8,
   "metadata": {},
   "outputs": [
    {
     "name": "stdout",
     "output_type": "stream",
     "text": [
      "0.9797719749908054\n"
     ]
    }
   ],
   "source": [
    "# two tests\n",
    "two_tests = 0.999*0.96*0.01 / (0.999*0.96*0.01 + 0.01*0.02*0.99)\n",
    "\n",
    "print(two_tests)"
   ]
  },
  {
   "cell_type": "code",
   "execution_count": 9,
   "metadata": {},
   "outputs": [],
   "source": [
    "# part 2, simple model\n",
    "avg_time = 10  # = 1/rate\n",
    "n_people = 10000\n",
    "samples = np.random.exponential(scale=avg_time, size=n_people)"
   ]
  },
  {
   "cell_type": "code",
   "execution_count": 10,
   "metadata": {},
   "outputs": [
    {
     "data": {
      "text/plain": [
       "array([ 2.49867647, 32.26132053,  5.91102003, ...,  1.03250229,\n",
       "        0.71817671,  2.54156865])"
      ]
     },
     "execution_count": 10,
     "metadata": {},
     "output_type": "execute_result"
    }
   ],
   "source": [
    "samples"
   ]
  },
  {
   "cell_type": "code",
   "execution_count": 16,
   "metadata": {},
   "outputs": [
    {
     "data": {
      "text/plain": [
       "9.909961652442268"
      ]
     },
     "execution_count": 16,
     "metadata": {},
     "output_type": "execute_result"
    }
   ],
   "source": [
    "# by derivation, the mean is the optimal scale parameter\n",
    "samples.mean()"
   ]
  },
  {
   "cell_type": "code",
   "execution_count": 13,
   "metadata": {},
   "outputs": [
    {
     "data": {
      "image/png": "[encoded data removed]",
      "text/plain": [
       "<Figure size 432x288 with 1 Axes>"
      ]
     },
     "metadata": {
      "needs_background": "light"
     },
     "output_type": "display_data"
    },
    {
     "data": {
      "image/png": "[encoded data removed]",
      "text/plain": [
       "<Figure size 432x288 with 1 Axes>"
      ]
     },
     "metadata": {
      "needs_background": "light"
     },
     "output_type": "display_data"
    }
   ],
   "source": [
    "# negative log likelihood as function of lambda, using RATE parameterization\n",
    "lambda_space = np.geomspace(0.01, 10, 10000)\n",
    "loglike = n_people*np.log(lambda_space) - lambda_space * samples.sum()\n",
    "plt.loglog(lambda_space, -loglike)\n",
    "plt.title(\"negative log likelihood\")\n",
    "plt.xlabel(\"Rate\")\n",
    "plt.ylabel(\"NLL\")\n",
    "plt.show()\n",
    "\n",
    "gradient = n_people/lambda_space - samples.sum()\n",
    "plt.semilogx(lambda_space, gradient, label=\"gradient\")\n",
    "plt.plot(lambda_space, np.zeros_like(lambda_space), label=\"zero\")\n",
    "plt.title(\"gradients (POSITIVE log likelihood)\")\n",
    "plt.xlabel(\"Rate\")\n",
    "plt.ylabel(\"Value\")\n",
    "plt.legend()\n",
    "plt.show()"
   ]
  },
  {
   "cell_type": "code",
   "execution_count": 14,
   "metadata": {},
   "outputs": [
    {
     "data": {
      "image/png": "[encoded data removed]",
      "text/plain": [
       "<Figure size 432x288 with 1 Axes>"
      ]
     },
     "metadata": {
      "needs_background": "light"
     },
     "output_type": "display_data"
    },
    {
     "data": {
      "image/png": "[encoded data removed]",
      "text/plain": [
       "<Figure size 432x288 with 1 Axes>"
      ]
     },
     "metadata": {
      "needs_background": "light"
     },
     "output_type": "display_data"
    }
   ],
   "source": [
    "# negative log likelihood as function of lambda, using SCALE parameterization\n",
    "lambda_space = np.geomspace(1, 100, 10000)\n",
    "loglike = -n_people*np.log(lambda_space) - 1/lambda_space * samples.sum()\n",
    "plt.loglog(lambda_space, -loglike)\n",
    "plt.title(\"negative log likelihood\")\n",
    "plt.xlabel(\"Scale\")\n",
    "plt.ylabel(\"NLL\")\n",
    "plt.show()\n",
    "\n",
    "gradient = -n_people/lambda_space + 1/lambda_space**2 * samples.sum()\n",
    "plt.semilogx(lambda_space, gradient, label=\"gradient\")\n",
    "plt.plot(lambda_space, np.zeros_like(lambda_space), label=\"zero\")\n",
    "plt.title(\"gradients (POSITIVE log likelihood)\")\n",
    "plt.xlabel(\"Scale\")\n",
    "plt.ylabel(\"Value\")\n",
    "plt.legend()\n",
    "plt.show()"
   ]
  },
  {
   "cell_type": "code",
   "execution_count": 15,
   "metadata": {},
   "outputs": [
    {
     "name": "stdout",
     "output_type": "stream",
     "text": [
      "9.909961652442265\n"
     ]
    }
   ],
   "source": [
    "# could also try gradient descent, slightly overkill...\n",
    "# unfortunately this is very sensitive to the learning rate!\n",
    "# in particular, it seems to diverge if lambda ever becomes negative.\n",
    "# this can happen if it is > than the target value and the gradient reduces it too much at once\n",
    "# on the other hand, a smaller learning rate might not converge at all (get stuck on the way)\n",
    "guess_parameter = 1  # some initial value\n",
    "n_steps = 100\n",
    "learning_rate = 0.00001\n",
    "\n",
    "for step in range(1, n_steps+1):\n",
    "    # this line is for the rate parameterization (what is given e.g. on wikipedia)\n",
    "    gradient = n_people/guess_parameter - samples.sum()\n",
    "    \n",
    "    # this would be fore the scale parameterization (e.g. what numpy uses).\n",
    "    # this seems to need a higher learning rate\n",
    "    #gradient = -n_people / guess_parameter + (1/guess_parameter**2)*samples.sum()\n",
    "    \n",
    "    # decaying learning rate makes it more stable for higher learning rates\n",
    "    guess_parameter += learning_rate/step * gradient\n",
    "    \n",
    "# we print the expected value (aka mean)\n",
    "# rate parameterization\n",
    "print(1/guess_parameter)\n",
    "# scale parameterization\n",
    "#print(guess_parameter)"
   ]
  },
  {
   "cell_type": "code",
   "execution_count": 17,
   "metadata": {},
   "outputs": [],
   "source": [
    "# or even with tensorflow!\n",
    "import os\n",
    "# do not run this on colab!\n",
    "os.environ[\"CUDA_VISIBLE_DEVICES\"] = \"2\""
   ]
  },
  {
   "cell_type": "code",
   "execution_count": 18,
   "metadata": {},
   "outputs": [
    {
     "name": "stderr",
     "output_type": "stream",
     "text": [
      "2023-04-20 13:45:40.844215: I tensorflow/core/platform/cpu_feature_guard.cc:193] This TensorFlow binary is optimized with oneAPI Deep Neural Network Library (oneDNN) to use the following CPU instructions in performance-critical operations:  AVX2 FMA\n",
      "To enable them in other operations, rebuild TensorFlow with the appropriate compiler flags.\n",
      "2023-04-20 13:45:43.136644: W tensorflow/compiler/xla/stream_executor/platform/default/dso_loader.cc:64] Could not load dynamic library 'libnvinfer.so.7'; dlerror: libnvinfer.so.7: cannot open shared object file: No such file or directory; LD_LIBRARY_PATH: /usr/local/cuda-11.3/lib64:/scratch/johannsm/python/lib:/usr/local/cuda-11.3/tensorRT-8.0/lib64:/usr/local/cuda-11.3/cudnn-8.2/lib64:/usr/local/cuda-11.3/nccl-2.9/lib64\n",
      "2023-04-20 13:45:43.136780: W tensorflow/compiler/xla/stream_executor/platform/default/dso_loader.cc:64] Could not load dynamic library 'libnvinfer_plugin.so.7'; dlerror: libnvinfer_plugin.so.7: cannot open shared object file: No such file or directory; LD_LIBRARY_PATH: /usr/local/cuda-11.3/lib64:/scratch/johannsm/python/lib:/usr/local/cuda-11.3/tensorRT-8.0/lib64:/usr/local/cuda-11.3/cudnn-8.2/lib64:/usr/local/cuda-11.3/nccl-2.9/lib64\n",
      "2023-04-20 13:45:43.136793: W tensorflow/compiler/tf2tensorrt/utils/py_utils.cc:38] TF-TRT Warning: Cannot dlopen some TensorRT libraries. If you would like to use Nvidia GPU with TensorRT, please make sure the missing libraries mentioned above are installed properly.\n"
     ]
    }
   ],
   "source": [
    "import tensorflow as tf"
   ]
  },
  {
   "cell_type": "code",
   "execution_count": 19,
   "metadata": {},
   "outputs": [
    {
     "name": "stdout",
     "output_type": "stream",
     "text": [
      "tf.Tensor(9.909962, shape=(), dtype=float32)\n"
     ]
    },
    {
     "name": "stderr",
     "output_type": "stream",
     "text": [
      "2023-04-20 13:45:46.691298: I tensorflow/core/platform/cpu_feature_guard.cc:193] This TensorFlow binary is optimized with oneAPI Deep Neural Network Library (oneDNN) to use the following CPU instructions in performance-critical operations:  AVX2 FMA\n",
      "To enable them in other operations, rebuild TensorFlow with the appropriate compiler flags.\n",
      "2023-04-20 13:45:47.099503: I tensorflow/core/common_runtime/gpu/gpu_device.cc:1613] Created device /job:localhost/replica:0/task:0/device:GPU:0 with 43644 MB memory:  -> device: 0, name: NVIDIA A40, pci bus id: 0000:84:00.0, compute capability: 8.6\n"
     ]
    }
   ],
   "source": [
    "def nll(parameter):  # negative log likelihood\n",
    "    return - (n_people * tf.math.log(parameter) - parameter * samples.sum())\n",
    "\n",
    "guess_parameter = tf.Variable(1.)\n",
    "n_steps = 100\n",
    "learning_rate = 0.00001\n",
    "\n",
    "for step in range(1, n_steps + 1):\n",
    "    with tf.GradientTape() as tape:\n",
    "        loss = nll(guess_parameter)\n",
    "    gradient = tape.gradient(loss, guess_parameter)\n",
    "    \n",
    "    guess_parameter.assign_sub(learning_rate/step*gradient)\n",
    "    \n",
    "print(1/guess_parameter)"
   ]
  },
  {
   "cell_type": "code",
   "execution_count": null,
   "metadata": {},
   "outputs": [],
   "source": []
  }
 ],
 "metadata": {
  "kernelspec": {
   "display_name": "Python 3 (ipykernel)",
   "language": "python",
   "name": "python3"
  },
  "language_info": {
   "codemirror_mode": {
    "name": "ipython",
    "version": 3
   },
   "file_extension": ".py",
   "mimetype": "text/x-python",
   "name": "python",
   "nbconvert_exporter": "python",
   "pygments_lexer": "ipython3",
   "version": "3.8.10"
  }
 },
 "nbformat": 4,
 "nbformat_minor": 4
}
