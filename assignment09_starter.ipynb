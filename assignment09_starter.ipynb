{
 "cells": [
  {
   "cell_type": "code",
   "execution_count": 1,
   "id": "41a35a83",
   "metadata": {},
   "outputs": [],
   "source": [
    "import os\n",
    "os.environ[\"CUDA_VISIBLE_DEVICES\"] = \"\""
   ]
  },
  {
   "cell_type": "code",
   "execution_count": 3,
   "id": "f894496d",
   "metadata": {},
   "outputs": [],
   "source": [
    "import tensorflow as tf\n",
    "import numpy as np"
   ]
  },
  {
   "cell_type": "code",
   "execution_count": 7,
   "id": "9d4c5e19",
   "metadata": {},
   "outputs": [
    {
     "data": {
      "text/plain": [
       "TensorShape([32, 18])"
      ]
     },
     "execution_count": 7,
     "metadata": {},
     "output_type": "execute_result"
    }
   ],
   "source": [
    "# this just shows how to do the positional encoding\n",
    "def positional_encoding(input_t, n_freqs):\n",
    "    # input_t: b x 1\n",
    "    # n_freqs: scalar\n",
    "    # returns b x (2*n_freqs)\n",
    "    exponents = tf.range(n_freqs, dtype=tf.float32)  # n_freqs vector\n",
    "    frequencies = tf.pow(2., exponents)  # same\n",
    "    sines = tf.math.sin(2*np.pi*frequencies*input_t)  # b x n_freqs\n",
    "    cosines =  tf.math.cos(2*np.pi*frequencies*input_t)  # b x n_freqs\n",
    "    return tf.concat([sines, cosines], axis=-1)  # b x 2*n_freqs\n",
    "\n",
    "\n",
    "# usage example for positional_encoding\n",
    "\n",
    "t_max = 1000\n",
    "batch_size = 32\n",
    "# in reality, times needs to be a batch_size vector of sampled time steps.\n",
    "# just like we sample a sigma_i in score-based models.\n",
    "times = np.random.randint(0, 1000, size=(batch_size, 1))\n",
    "times_normalized = times.astype(np.float32) / t_max  # to [0, 1]\n",
    "\n",
    "# how many frequencies to choose? \n",
    "# generally, we have a sampling rate of t_max for the normalized t.\n",
    "# the highest frequency that can be expressed (nyquist frequency) is just below t_max/2.\n",
    "# e.g. for t_max = 1000, frequencies of 500 Hz or higher are lost/aliased.\n",
    "# -> stay below 500. 2**9 is 512, so rather use 2**8 = 256 as highest frequency.\n",
    "# i.e. 2**0, 2**1, 2**2, ..., 2**8.\n",
    "n_freqs = 9\n",
    "times_encoded = positional_encoding(times_normalized, n_freqs)\n",
    "\n",
    "times_encoded.shape  # batch_size x (n_freqs * 2) for sine and cosine waves of each frequency."
   ]
  },
  {
   "cell_type": "code",
   "execution_count": null,
   "id": "cebcd117",
   "metadata": {},
   "outputs": [],
   "source": [
    "# use whatever input shape is appropriate for your data\n",
    "inp = tf.keras.Input((64, 64, 3))  # this is the image input\n",
    "\n",
    "t_input = tf.keras.Input((1,))\n",
    "# None, None adds axes for widht and height.\n",
    "t_encoded = positional_encoding(t_input, n_freqs=9)[:, None, None, :]\n",
    "t_broadcast = tf.tile(t_encoded, [1, 64, 64, 1])  # repeat t over the whole image\n",
    "\n",
    "combined = tfkl.Concatenate()([inp, t_broadcast])  # put this into your network\n",
    "\n",
    "output = Network(combined) # output of your network, same shape as inp\n",
    "\n",
    "\n",
    "model = tf.keras.Model([inp, t_input], output)  # model that takes two inputs\n",
    "\n",
    "# keep in mind that you need to call multi-input models like this\n",
    "model([input_one, input_two])\n",
    "# NOT this\n",
    "model(input_one, input_two)\n",
    "\n",
    "# in principle you could also handle all the t stuff outside the actual model\n",
    "# and just give the already concatenated tensor as a single input to the model.\n",
    "\n",
    "\n",
    "# Finally: The papers recommed to insert t not only in the input layer, but also\n",
    "# give it to hidden layers directly. To do that, you will need to create t_broadcast\n",
    "# for all layers with the appropriate size, tiling over width and height of the \n",
    "# respective feature maps."
   ]
  },
  {
   "cell_type": "code",
   "execution_count": null,
   "id": "e4b118ef",
   "metadata": {},
   "outputs": [],
   "source": [
    "# forward process\n",
    "# these values are taken from the paper.\n",
    "tmax = 1000\n",
    "betas = np.linspace(0.0001, 0.02, tmax).astype(np.float32)\n",
    "alphas = 1 - betas\n",
    "alphas_bar = np.cumprod(alphas)\n",
    "\n",
    "\n",
    "# running the forward process, for example, is then\n",
    "t = 200 # whatever time step\n",
    "noise_scale = np.sqrt(1 - alphas_bar[t])\n",
    "noisy_data = np.sqrt(alphas_bar[t]) * data + scale*np.random.normal(size=data.shape)\n",
    "\n",
    "# all required formulas can be found in the paper!!"
   ]
  }
 ],
 "metadata": {
  "kernelspec": {
   "display_name": "Python 3 (ipykernel)",
   "language": "python",
   "name": "python3"
  },
  "language_info": {
   "codemirror_mode": {
    "name": "ipython",
    "version": 3
   },
   "file_extension": ".py",
   "mimetype": "text/x-python",
   "name": "python",
   "nbconvert_exporter": "python",
   "pygments_lexer": "ipython3",
   "version": "3.8.10"
  }
 },
 "nbformat": 4,
 "nbformat_minor": 5
}
