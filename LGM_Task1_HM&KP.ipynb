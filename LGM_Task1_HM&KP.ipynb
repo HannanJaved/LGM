{
  "nbformat": 4,
  "nbformat_minor": 0,
  "metadata": {
    "colab": {
      "provenance": []
    },
    "kernelspec": {
      "name": "python3",
      "display_name": "Python 3"
    },
    "language_info": {
      "name": "python"
    }
  },
  "cells": [
    {
      "cell_type": "markdown",
      "source": [
        "# Assignment 1: Probability Review - Kai Ponel & Hannan Mahadik "
      ],
      "metadata": {
        "id": "jsrxBKwkNNRP"
      }
    },
    {
      "cell_type": "markdown",
      "source": [
        "# Testing Illnesses"
      ],
      "metadata": {
        "id": "U3qdxhhKNpOj"
      }
    },
    {
      "cell_type": "markdown",
      "source": [
        "## Given:"
      ],
      "metadata": {
        "id": "UGFTSjzpO9Y0"
      }
    },
    {
      "cell_type": "markdown",
      "source": [
        "About **1%** of the population has the **illness**. That is, any given person has a 1% “a priori” probability of being sick \\\\\n",
        "Probability that someone is ill => $$P(I)=0.01$$\n"
      ],
      "metadata": {
        "id": "nCGbkWZTNzdQ"
      }
    },
    {
      "cell_type": "markdown",
      "source": [
        "If a **sick** person is tested, the test returns a **positive** result 99.9% of the time \\\\\n",
        "Probability that the test is positive given a sick person is tested => $$P(+ | I) = 0.999$$ "
      ],
      "metadata": {
        "id": "Z33G4dPYN-3S"
      }
    },
    {
      "cell_type": "markdown",
      "source": [
        "If a **healthy** person is tested, the test still returns a **positive** result 1% of the time\\\\\n",
        "Probability that the test is positive given a healthy person is tested => $$P(+ | H) = 0.01$$"
      ],
      "metadata": {
        "id": "0G8WPlf7OXTv"
      }
    },
    {
      "cell_type": "markdown",
      "source": [
        "Your test result is positive. What is the probability that you have the illness? \\\\\n",
        "To find : \\\\\n",
        "Probability that a person is ill, given that the test was positive => $$P(I|+) = ?$$"
      ],
      "metadata": {
        "id": "WBz2-qZpOtaV"
      }
    },
    {
      "cell_type": "markdown",
      "source": [
        "## Solution: "
      ],
      "metadata": {
        "id": "neYFwyrkPRl6"
      }
    },
    {
      "cell_type": "markdown",
      "source": [
        "### Mathematically"
      ],
      "metadata": {
        "id": "ASjTyVpoPU5N"
      }
    },
    {
      "cell_type": "markdown",
      "source": [
        "About 1% of the population has the illness, which means that the probability of someone being healthy should be $$P(H) = 1 - P(I)$$\n",
        "Probability that someone is healthy => $$P(H)= 1 - 0.01 = 0.99$$"
      ],
      "metadata": {
        "id": "RlorCaEOYhDL"
      }
    },
    {
      "cell_type": "markdown",
      "source": [
        "Using Bayes' Theorem:\n",
        "$$P(I|+) = \\frac{P(+|I) \\cdot P(I)}{P(+)} $$"
      ],
      "metadata": {
        "id": "lwFkP7ByPdEq"
      }
    },
    {
      "cell_type": "markdown",
      "source": [
        "$$P(I|+) = \\frac{P(+|I) \\cdot P(I)}{P(+|I) \\cdot P(I)+P(+|H) \\cdot P(H)} $$"
      ],
      "metadata": {
        "id": "Ai9nRFI6PiPx"
      }
    },
    {
      "cell_type": "markdown",
      "source": [
        "$$P(I|+) = \\frac{0.999 \\cdot 0.01}{0.999 \\cdot 0.01 + 0.01 \\cdot 0.99} = 0.50 $$"
      ],
      "metadata": {
        "id": "UzpmNCgdPmdN"
      }
    },
    {
      "cell_type": "markdown",
      "source": [
        "### Simulation"
      ],
      "metadata": {
        "id": "dX6nVQu1Qa64"
      }
    },
    {
      "cell_type": "code",
      "source": [
        "import random"
      ],
      "metadata": {
        "id": "q0AKWD8-Rk25"
      },
      "execution_count": null,
      "outputs": []
    },
    {
      "cell_type": "code",
      "source": [
        "# Given Parameters\n",
        "\n",
        "p_ill = 0.01 # Probability that someone has an illness  \n",
        "p_positive_ill = 0.999 # Probability that someone tested positive, given that they were ill\n",
        "p_positive_healthy = 0.01 # Probability that someone tested positive, given that they were healthy"
      ],
      "metadata": {
        "id": "P4u8hDTAQdZd"
      },
      "execution_count": null,
      "outputs": []
    },
    {
      "cell_type": "code",
      "source": [
        "# Other variables\n",
        "\n",
        "sick_count = 0 # Number of people that are sick\n",
        "positive_count = 0 # Number of people that tested positive"
      ],
      "metadata": {
        "id": "1wSJOUMBUdbH"
      },
      "execution_count": null,
      "outputs": []
    },
    {
      "cell_type": "code",
      "source": [
        "for x in [1000,10000,100000,1000000]:\n",
        "\n",
        "  # Number of people tested \n",
        "  population_sample = x\n",
        "\n",
        "  for i in range(population_sample):\n",
        "      is_sick = random.random() < p_ill\n",
        "\n",
        "      if is_sick:\n",
        "          sick_count += 1\n",
        "          test_result = random.random() < p_positive_ill\n",
        "      else:\n",
        "          test_result = random.random() < p_positive_healthy\n",
        "      \n",
        "      if test_result:\n",
        "          positive_count += 1\n",
        "\n",
        "  proportion = sick_count / positive_count if positive_count > 0 else 0\n",
        "\n",
        "  print(f\"Out of {positive_count} people that tested positive, {sick_count} are actually sick.\")\n",
        "  print(f\"The proportion of people that tested positive and are actually sick is {proportion:.2f}.\")\n",
        "  print()"
      ],
      "metadata": {
        "colab": {
          "base_uri": "https://localhost:8080/"
        },
        "id": "H2IIg3fMTGQf",
        "outputId": "b83d006f-9b47-4573-8503-6199fa420770"
      },
      "execution_count": null,
      "outputs": [
        {
          "output_type": "stream",
          "name": "stdout",
          "text": [
            "Out of 15 people that tested positive, 5 are actually sick.\n",
            "The proportion of people that tested positive and are actually sick is 0.33.\n",
            "\n",
            "Out of 186 people that tested positive, 88 are actually sick.\n",
            "The proportion of people that tested positive and are actually sick is 0.47.\n",
            "\n",
            "Out of 2149 people that tested positive, 1070 are actually sick.\n",
            "The proportion of people that tested positive and are actually sick is 0.50.\n",
            "\n",
            "Out of 22221 people that tested positive, 11130 are actually sick.\n",
            "The proportion of people that tested positive and are actually sick is 0.50.\n",
            "\n"
          ]
        }
      ]
    },
    {
      "cell_type": "markdown",
      "source": [
        "# Modeling Waiting Times"
      ],
      "metadata": {
        "id": "EUM6m5WHVia5"
      }
    },
    {
      "cell_type": "markdown",
      "source": [
        "## Solution:"
      ],
      "metadata": {
        "id": "UfOyuSetVqv7"
      }
    },
    {
      "cell_type": "markdown",
      "source": [
        "Let’s say we have a dataset of waiting times x1, x2, ..., xn that we assume are independent and identically distributed (i.i.d.) samples from an exponential distribution with unknown rate parameter λ. The PDF of the exponential distribution is given by: \\\\\n",
        "\n",
        "$$ f(x | \\lambda) = \\lambda e^{-\\lambda x} $$ \\\\\n",
        " \n",
        "The likelihood function for the data given the parameter λ is the product of the individual PDFs for each data point:\n",
        "\n",
        "$$ L(\\lambda | x_1, x_2, \\dots, x_n) = f(x_1 | \\lambda) \\cdot f(x_2 | \\lambda) \\dots f(x_n | \\lambda) $$ \\\\\n",
        "\n",
        "Taking the natural logarithm of the likelihood function gives us the log-likelihood function:\n",
        "\n",
        "$$ \\ln(L(\\lambda | x_1, x_2, \\dots, x_n)) = \\ln(f(x_1 | \\lambda)) + \\ln(f(x_2 | \\lambda)) + \\dots + \\ln(f(x_n | \\lambda)) $$ \\\\\n",
        "\n",
        "We know that the log of $$ \\lambda e^{-\\lambda x} = \\ln(\\lambda) + \\ln(e^{(-\\lambda x)}) = \\ln(\\lambda) - \\lambda x $$ \\\\\n",
        "\n",
        "Substituting that in the equation gives us:\n",
        "$$ = \\ln(\\lambda) - (\\lambda x_1) + \\ln(\\lambda) - (\\lambda x_2) + \\dots + \\ln(\\lambda) - (\\lambda x_n) $$ \\\\\n",
        "$$ = n\\ln(\\lambda) - \\lambda(x_1 + x_2 + \\dots + x_n) $$ \\\\\n",
        "$$ = n\\ln(\\lambda) - \\lambda\\sum_{i=1}^n (x_i) $$ \\\\\n",
        "\n",
        "To find the MLE for λ, we take the derivative of the log-likelihood function with respect to λ and set it equal to zero : \\\\\n",
        "\n",
        "$$ \\frac{d(n\\ln(\\lambda) - \\lambda\\sum_{i=1}^n (x_i))}{d(λ)} = \\frac{n}{λ} - \\sum_{i=1}^n (x_i) = 0 $$ \\\\\n",
        "\n",
        "Solving for λ gives us the maximum likelihood estimate for λ:\n",
        "$$ \\lambda = \\frac{n}{\\sum_{i=1}^n x_i} $$\n"
      ],
      "metadata": {
        "id": "r0QYbQ_4au_9"
      }
    },
    {
      "cell_type": "code",
      "source": [
        "import numpy as np\n",
        "from scipy.stats import expon\n",
        "\n",
        "# Using the exponential distribution\n",
        "rate = 0.1\n",
        "x = expon(scale=1/rate)\n",
        "\n",
        "# Generate random waiting times\n",
        "n_samples = 10000\n",
        "waiting_times = x.rvs(size=n_samples)\n",
        "\n",
        "# Compute the log-likelihood of the data\n",
        "log_likelihood = np.sum(x.logpdf(waiting_times))\n",
        "\n",
        "# Compute the expected and mean values of the data\n",
        "expected_value = 1/rate\n",
        "mean = np.mean(waiting_times)\n",
        "\n",
        "# Compute the maximum likelihood estimate\n",
        "mle_rate = n_samples/np.sum(waiting_times)\n",
        "\n",
        "print(f\"Log-likelihood: {log_likelihood:.2f}\")\n",
        "print(f\"Mean value of the distribution:: {mean:.2f}\")\n",
        "print(f\"Expected value of the distribution: {expected_value:.2f}\")\n",
        "print(f\"Maximum likelihood estimate for lambda: {mle_rate:.2f}\")"
      ],
      "metadata": {
        "colab": {
          "base_uri": "https://localhost:8080/"
        },
        "id": "Tb4RsNKgWr9w",
        "outputId": "20ab3ffa-aae1-440e-9502-8c54f898b795"
      },
      "execution_count": 5,
      "outputs": [
        {
          "output_type": "stream",
          "name": "stdout",
          "text": [
            "Log-likelihood: -33218.66\n",
            "Mean value of the distribution:: 10.19\n",
            "Expected value of the distribution: 10.00\n",
            "Maximum likelihood estimate for lambda: 0.10\n"
          ]
        }
      ]
    }
  ]
}