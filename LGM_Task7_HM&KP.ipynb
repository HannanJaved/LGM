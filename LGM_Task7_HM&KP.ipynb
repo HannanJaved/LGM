{
  "cells": [
    {
      "cell_type": "markdown",
      "source": [
        "# Assignment 7: The NICEst Assignment - Kai Ponel & Hannan Mahadik "
      ],
      "metadata": {
        "id": "3QeHqwBvA0uo"
      },
      "id": "3QeHqwBvA0uo"
    },
    {
      "cell_type": "markdown",
      "source": [
        "# Custom"
      ],
      "metadata": {
        "id": "jg0NAdLlPnxR"
      },
      "id": "jg0NAdLlPnxR"
    },
    {
      "cell_type": "code",
      "source": [
        "import tensorflow as tf\n",
        "import tensorflow_probability as tfp\n",
        "import numpy as np\n",
        "tfd = tfp.distributions\n",
        "\n",
        "from tensorflow.keras.layers import Layer, Dense, LayerNormalization\n",
        "from tensorflow.keras.optimizers import Adam\n",
        "import matplotlib.pyplot as plt"
      ],
      "metadata": {
        "id": "WCrI_hmOP3wu"
      },
      "id": "WCrI_hmOP3wu",
      "execution_count": null,
      "outputs": []
    },
    {
      "cell_type": "code",
      "source": [
        "class NICECouplingLayer(Layer):\n",
        "    def __init__(self, input_dim, hidden_dim):\n",
        "        super(NICECouplingLayer, self).__init__()\n",
        "        self.input_dim = input_dim\n",
        "        self.hidden_dim = hidden_dim\n",
        "        self.network = self.build_network()\n",
        "\n",
        "    def build_network(self):\n",
        "        input_layer = tf.keras.Input(shape=(self.input_dim,))\n",
        "        hidden_layer = LayerNormalization()(input_layer)\n",
        "        hidden_layer = Dense(self.hidden_dim, activation='relu')(hidden_layer)\n",
        "        hidden_layer = LayerNormalization()(hidden_layer)\n",
        "        output_layer = Dense(self.input_dim)(hidden_layer)\n",
        "\n",
        "        model = tf.keras.Model(input_layer, output_layer)\n",
        "        return model\n",
        "\n",
        "    def call(self, inputs, training=False):\n",
        "        x1, x2 = tf.split(inputs, 2, axis=1)\n",
        "\n",
        "        if training:\n",
        "            y1 = x1\n",
        "            y2 = x2 + self.network(x1)\n",
        "        else:\n",
        "            y1 = x1\n",
        "            y2 = x2 - self.network(x1)\n",
        "\n",
        "        return tf.concat([y1, y2], axis=1)"
      ],
      "metadata": {
        "id": "a0ny7DJ3PrsO"
      },
      "id": "a0ny7DJ3PrsO",
      "execution_count": null,
      "outputs": []
    },
    {
      "cell_type": "code",
      "source": [
        "class NICEModel(Layer):\n",
        "    def __init__(self, input_dim, hidden_dim, num_coupling_layers):\n",
        "        super(NICEModel, self).__init__()\n",
        "        self.input_dim = input_dim\n",
        "        self.hidden_dim = hidden_dim\n",
        "        self.num_coupling_layers = num_coupling_layers\n",
        "        self.coupling_layers = self.build_coupling_layers()\n",
        "        self.diagonal_scale = self.add_weight(shape=(self.input_dim,),\n",
        "                                              initializer='ones',\n",
        "                                              trainable=True)\n",
        "\n",
        "    def build_coupling_layers(self):\n",
        "        layers = []\n",
        "        for _ in range(self.num_coupling_layers):\n",
        "            layers.append(NICECouplingLayer(self.input_dim // 2, self.hidden_dim))\n",
        "            layers.append(NICECouplingLayer(self.input_dim // 2, self.hidden_dim))\n",
        "        return layers\n",
        "\n",
        "    def forward(self, x):\n",
        "        for layer in self.coupling_layers:\n",
        "            x = layer(x, training=True)\n",
        "        return x * self.diagonal_scale\n",
        "\n",
        "    def backward(self, y):\n",
        "        y = y / self.diagonal_scale\n",
        "        for layer in reversed(self.coupling_layers):\n",
        "            y = layer(y, training=False)\n",
        "        return y"
      ],
      "metadata": {
        "id": "nKdzCn_biJ-a"
      },
      "id": "nKdzCn_biJ-a",
      "execution_count": null,
      "outputs": []
    },
    {
      "cell_type": "code",
      "source": [
        "input_dim = 10  # Dimensionality of the input\n",
        "hidden_dim = 1024  # Dimensionality of the hidden layer\n",
        "num_coupling_layers = 4  # Number of coupling layers in the model\n",
        "\n",
        "# Create the NICE model\n",
        "nice_model = NICEModel(input_dim, hidden_dim, num_coupling_layers)\n",
        "\n",
        "# Generate a random input tensor\n",
        "input_tensor = tf.random.normal((1, input_dim))\n",
        "\n",
        "# Forward pass through the NICE model\n",
        "output_tensor = nice_model.forward(input_tensor)\n",
        "print(\"Forward Output Tensor:\", output_tensor)\n",
        "\n",
        "# Inverse pass through the NICE model\n",
        "reconstructed_tensor = nice_model.backward(output_tensor)\n",
        "print(\"Inverse Reconstructed Tensor:\", reconstructed_tensor)\n",
        "\n",
        "# Calculate the difference between the original input and the reconstructed input\n",
        "difference = tf.reduce_sum(tf.abs(input_tensor - reconstructed_tensor))\n",
        "print(\"Difference:\", difference.numpy())"
      ],
      "metadata": {
        "colab": {
          "base_uri": "https://localhost:8080/"
        },
        "id": "0gSOr8m1iLmZ",
        "outputId": "36f78344-b5cb-4995-c332-6b06583887c6"
      },
      "id": "0gSOr8m1iLmZ",
      "execution_count": null,
      "outputs": [
        {
          "output_type": "stream",
          "name": "stdout",
          "text": [
            "Forward Output Tensor: tf.Tensor(\n",
            "[[-0.9032111   0.52081865  1.2737176  -0.6568407  -0.5113207   1.5330367\n",
            "   1.4914765  -7.0619383   5.7860475  -1.5632026 ]], shape=(1, 10), dtype=float32)\n",
            "Inverse Reconstructed Tensor: tf.Tensor(\n",
            "[[-0.9032111   0.52081865  1.2737176  -0.6568407  -0.5113207   0.19184715\n",
            "   0.26891977 -0.88015985  1.2373682   0.76522535]], shape=(1, 10), dtype=float32)\n",
            "Difference: 5.5134296e-07\n"
          ]
        }
      ]
    },
    {
      "cell_type": "code",
      "source": [
        "n_samples = 2048\n",
        "x2_dist = tfd.Normal(loc=0., scale=0.5)\n",
        "x2_samples = x2_dist.sample(n_samples)\n",
        "x1 = tfd.Normal(loc=1. * tf.square(x2_samples),\n",
        "                scale=0.1*tf.ones(n_samples, dtype=tf.float32))\n",
        "x1_samples = x1.sample()\n",
        "x_samples = tf.stack([x1_samples, x2_samples], axis=1)\n",
        "\n",
        "as_np = x_samples.numpy()\n",
        "plt.scatter(as_np[:, 0], as_np[:, 1])\n",
        "a = plt.gca()\n",
        "plt.show()"
      ],
      "metadata": {
        "colab": {
          "base_uri": "https://localhost:8080/",
          "height": 430
        },
        "id": "qzYj6kRgKEJ8",
        "outputId": "9d95b5cd-db8d-41ad-c6d3-5d51df8285ab"
      },
      "id": "qzYj6kRgKEJ8",
      "execution_count": null,
      "outputs": [
        {
          "output_type": "display_data",
          "data": {
            "text/plain": [
              "<Figure size 640x480 with 1 Axes>"
            ],
            "image/png": "[encoded data removed]"
          },
          "metadata": {}
        }
      ]
    },
    {
      "cell_type": "code",
      "source": [
        "input_dim = 2  # Dimensionality of the input\n",
        "hidden_dim = 1024  # Dimensionality of the hidden layer\n",
        "num_coupling_layers = 4  # Number of coupling layers in the model\n",
        "\n",
        "# Create the NICE model\n",
        "nice_model = NICEModel(input_dim, hidden_dim, num_coupling_layers)"
      ],
      "metadata": {
        "id": "kicryJNWUiY-"
      },
      "id": "kicryJNWUiY-",
      "execution_count": null,
      "outputs": []
    },
    {
      "cell_type": "code",
      "source": [
        "input_tensor = tf.convert_to_tensor(x_samples, dtype=tf.float32)\n",
        "\n",
        "# Forward pass through the NICE model\n",
        "output_tensor = nice_model.forward(input_tensor)\n",
        "print(\"Forward Output Tensor:\", output_tensor)\n",
        "\n",
        "# Inverse pass through the NICE model\n",
        "reconstructed_tensor = nice_model.backward(output_tensor)\n",
        "print(\"Inverse Reconstructed Tensor:\", reconstructed_tensor)\n",
        "\n",
        "# Calculate the difference between the original input and the reconstructed input\n",
        "difference = tf.reduce_sum(tf.abs(input_tensor - reconstructed_tensor))\n",
        "print(\"Difference:\", difference.numpy())"
      ],
      "metadata": {
        "colab": {
          "base_uri": "https://localhost:8080/"
        },
        "id": "2-ik33lJRmBT",
        "outputId": "e6f3f878-6068-4dc0-86ab-f2617c409c4e"
      },
      "id": "2-ik33lJRmBT",
      "execution_count": null,
      "outputs": [
        {
          "output_type": "stream",
          "name": "stdout",
          "text": [
            "Forward Output Tensor: tf.Tensor(\n",
            "[[ 0.19697177  0.3914664 ]\n",
            " [ 0.12130839 -0.3628856 ]\n",
            " [-0.09612302  0.26519707]\n",
            " ...\n",
            " [-0.02931317  0.13351545]\n",
            " [ 0.03520637  0.03869548]\n",
            " [ 0.00844221 -0.234889  ]], shape=(2048, 2), dtype=float32)\n",
            "Inverse Reconstructed Tensor: tf.Tensor(\n",
            "[[ 0.19697177  0.39146668]\n",
            " [ 0.12130839 -0.36288556]\n",
            " [-0.09612302  0.26519707]\n",
            " ...\n",
            " [-0.02931317  0.13351548]\n",
            " [ 0.03520637  0.0386955 ]\n",
            " [ 0.00844221 -0.234889  ]], shape=(2048, 2), dtype=float32)\n",
            "Difference: 0.0\n"
          ]
        }
      ]
    },
    {
      "cell_type": "code",
      "source": [
        "# Define the optimizer\n",
        "optimizer = Adam(learning_rate=0.001)"
      ],
      "metadata": {
        "id": "U1PL-ATQiT69"
      },
      "id": "U1PL-ATQiT69",
      "execution_count": null,
      "outputs": []
    },
    {
      "cell_type": "code",
      "source": [
        "# Define the probability distribution for the latent space\n",
        "latent_distribution = tfp.distributions.Normal(loc=0.0, scale=1.0)"
      ],
      "metadata": {
        "id": "vD2sDdH4jK4r"
      },
      "id": "vD2sDdH4jK4r",
      "execution_count": null,
      "outputs": []
    },
    {
      "cell_type": "code",
      "source": [
        "# Training loop\n",
        "epochs = 20\n",
        "batch_size = 32\n",
        "\n",
        "for epoch in range(epochs):\n",
        "    epoch_loss = 0.0\n",
        "    num_batches = x_samples.shape[0] // batch_size\n",
        "\n",
        "    for batch in range(num_batches):\n",
        "        start_idx = batch * batch_size\n",
        "        end_idx = (batch + 1) * batch_size\n",
        "        batch_data = x_samples[start_idx:end_idx]\n",
        "\n",
        "        with tf.GradientTape() as tape:\n",
        "            latent_pred = nice_model.forward(batch_data)\n",
        "\n",
        "            log_prob_forward = latent_distribution.log_prob(latent_pred)\n",
        "            log_det_forward = tf.reduce_sum(tf.math.log(nice_model.diagonal_scale))\n",
        "            log_prob_total = log_prob_forward + log_det_forward\n",
        "\n",
        "            negative_log_likelihood = -tf.reduce_mean(log_prob_total)\n",
        "\n",
        "        grads = tape.gradient(negative_log_likelihood, nice_model.trainable_variables)\n",
        "        optimizer.apply_gradients(zip(grads, nice_model.trainable_variables))\n",
        "\n",
        "        epoch_loss += negative_log_likelihood.numpy()\n",
        "\n",
        "    print(\"Epoch:\", epoch + 1, \"Loss:\", epoch_loss / num_batches)"
      ],
      "metadata": {
        "colab": {
          "base_uri": "https://localhost:8080/"
        },
        "id": "WBpYnm1XSbNj",
        "outputId": "299aa159-2f53-49ac-dac3-5934df6ddf0b"
      },
      "id": "WBpYnm1XSbNj",
      "execution_count": null,
      "outputs": [
        {
          "output_type": "stream",
          "name": "stderr",
          "text": [
            "WARNING:tensorflow:5 out of the last 5 calls to <function _BaseOptimizer._update_step_xla at 0x7f4cd04c3640> triggered tf.function retracing. Tracing is expensive and the excessive number of tracings could be due to (1) creating @tf.function repeatedly in a loop, (2) passing tensors with different shapes, (3) passing Python objects instead of tensors. For (1), please define your @tf.function outside of the loop. For (2), @tf.function has reduce_retracing=True option that can avoid unnecessary retracing. For (3), please refer to https://www.tensorflow.org/guide/function#controlling_retracing and https://www.tensorflow.org/api_docs/python/tf/function for  more details.\n",
            "WARNING:tensorflow:6 out of the last 6 calls to <function _BaseOptimizer._update_step_xla at 0x7f4cd04c3640> triggered tf.function retracing. Tracing is expensive and the excessive number of tracings could be due to (1) creating @tf.function repeatedly in a loop, (2) passing tensors with different shapes, (3) passing Python objects instead of tensors. For (1), please define your @tf.function outside of the loop. For (2), @tf.function has reduce_retracing=True option that can avoid unnecessary retracing. For (3), please refer to https://www.tensorflow.org/guide/function#controlling_retracing and https://www.tensorflow.org/api_docs/python/tf/function for  more details.\n"
          ]
        },
        {
          "output_type": "stream",
          "name": "stdout",
          "text": [
            "Epoch: 1 Loss: 1.2160893762484193\n",
            "Epoch: 2 Loss: 0.9168199375271797\n",
            "Epoch: 3 Loss: 0.8291278276592493\n",
            "Epoch: 4 Loss: 0.7485119551420212\n",
            "Epoch: 5 Loss: 0.6764731155708432\n",
            "Epoch: 6 Loss: 0.6101751327514648\n",
            "Epoch: 7 Loss: 0.5482662892900407\n",
            "Epoch: 8 Loss: 0.48803867492824793\n",
            "Epoch: 9 Loss: 0.4317939789034426\n",
            "Epoch: 10 Loss: 0.3804547644685954\n",
            "Epoch: 11 Loss: 0.33292743377387524\n",
            "Epoch: 12 Loss: 0.28936798335053027\n",
            "Epoch: 13 Loss: 0.25134043261641636\n",
            "Epoch: 14 Loss: 0.21392354421550408\n",
            "Epoch: 15 Loss: 0.17707627156050876\n",
            "Epoch: 16 Loss: 0.1432654428499518\n",
            "Epoch: 17 Loss: 0.11217657514498569\n",
            "Epoch: 18 Loss: 0.08362137543736026\n",
            "Epoch: 19 Loss: 0.05729438195703551\n",
            "Epoch: 20 Loss: 0.03278769088501576\n"
          ]
        }
      ]
    },
    {
      "cell_type": "code",
      "source": [
        "# Load and preprocess the MNIST dataset\n",
        "(x_train, _), (x_test, _) = tf.keras.datasets.mnist.load_data()\n",
        "x_train = x_train.reshape(-1, 784).astype('float32') / 255.0\n",
        "x_test = x_test.reshape(-1, 784).astype('float32') / 255.0"
      ],
      "metadata": {
        "id": "ILHCzUdTQc6z"
      },
      "id": "ILHCzUdTQc6z",
      "execution_count": null,
      "outputs": []
    },
    {
      "cell_type": "code",
      "source": [
        "# Create the NICE model with larger hidden layers and Layer Normalization\n",
        "input_dim = 784  # Dimensionality of the input\n",
        "hidden_dim = 500  # Dimensionality of the hidden layer\n",
        "num_coupling_layers = 4  # Number of coupling layers in the mod\n",
        "nice_model = NICEModel(input_dim, hidden_dim, num_coupling_layers)"
      ],
      "metadata": {
        "id": "0GuSL1C0iR5g"
      },
      "id": "0GuSL1C0iR5g",
      "execution_count": null,
      "outputs": []
    },
    {
      "cell_type": "code",
      "source": [
        "# Define the optimizer\n",
        "optimizer = Adam(learning_rate=0.001)"
      ],
      "metadata": {
        "id": "gPEcgnYUVr9i"
      },
      "id": "gPEcgnYUVr9i",
      "execution_count": null,
      "outputs": []
    },
    {
      "cell_type": "code",
      "source": [
        "# Define the loss function for maximum likelihood estimation\n",
        "def negative_log_likelihood_loss(y_true, y_pred):\n",
        "    log_prob = latent_distribution.log_prob(y_pred)\n",
        "    return -tf.reduce_mean(log_prob)"
      ],
      "metadata": {
        "id": "axoNt0omRNRz"
      },
      "id": "axoNt0omRNRz",
      "execution_count": null,
      "outputs": []
    },
    {
      "cell_type": "code",
      "source": [
        "# Define the probability distribution for the latent space\n",
        "latent_distribution = tfp.distributions.Normal(loc=0.0, scale=1.0)"
      ],
      "metadata": {
        "id": "NrCghZ5zYAQ4"
      },
      "id": "NrCghZ5zYAQ4",
      "execution_count": null,
      "outputs": []
    },
    {
      "cell_type": "code",
      "source": [
        "# Training loop\n",
        "epochs = 10\n",
        "batch_size = 128\n",
        "# steps_per_sample = 100\n",
        "\n",
        "train_losses = []\n",
        "val_losses = []\n",
        "\n",
        "for epoch in range(epochs):\n",
        "\n",
        "    epoch_loss = 0.0\n",
        "    num_batches = x_train.shape[0] // batch_size\n",
        "\n",
        "    for batch in range(num_batches):\n",
        "        start_idx = batch * batch_size\n",
        "        end_idx = (batch + 1) * batch_size\n",
        "        batch_data = x_train[start_idx:end_idx]\n",
        "\n",
        "        with tf.GradientTape() as tape:\n",
        "            latent_pred = nice_model.forward(batch_data)\n",
        "            loss_value = negative_log_likelihood_loss(batch_data, latent_pred)\n",
        "\n",
        "        grads = tape.gradient(loss_value, nice_model.trainable_variables)\n",
        "        optimizer.apply_gradients(zip(grads, nice_model.trainable_variables))\n",
        "\n",
        "        epoch_loss += loss_value.numpy()\n",
        "\n",
        "    train_loss = epoch_loss / num_batches\n",
        "    train_losses.append(train_loss)\n",
        "\n",
        "    # Calculate validation loss\n",
        "    val_loss = negative_log_likelihood_loss(x_test, nice_model.forward(x_test)).numpy()\n",
        "    val_losses.append(val_loss)\n",
        "\n",
        "    print(\"Epoch:\", epoch + 1, \"Train Loss:\", train_loss, \"Val Loss:\", val_loss)\n",
        "\n",
        "    # Generate and plot 8 sample images\n",
        "    # latent_samples = tf.random.normal((10, input_dim))\n",
        "    # generated_images = nice_model.backward(latent_samples)\n",
        "    # generated_images = tf.reshape(generated_images, (10, 28, 28))\n",
        "\n",
        "    # plt.figure(figsize=(10, 4))\n",
        "    # for i in range(8):\n",
        "    #     plt.subplot(2, 4, i + 1)\n",
        "    #     plt.imshow(generated_images[i], cmap='gray')\n",
        "    #     plt.axis('off')\n",
        "    # plt.show()"
      ],
      "metadata": {
        "colab": {
          "base_uri": "https://localhost:8080/"
        },
        "id": "tVgEwtSiiXn7",
        "outputId": "2745d07e-0ab3-426d-f056-d38c69f8e752"
      },
      "id": "tVgEwtSiiXn7",
      "execution_count": null,
      "outputs": [
        {
          "output_type": "stream",
          "name": "stdout",
          "text": [
            "Epoch: 1 Train Loss: 0.9938622418886576 Val Loss: 0.9441293\n",
            "Epoch: 2 Train Loss: 0.9361718764417192 Val Loss: 0.93175805\n",
            "Epoch: 3 Train Loss: 0.9282509213329381 Val Loss: 0.9264776\n",
            "Epoch: 4 Train Loss: 0.9247228475207956 Val Loss: 0.92383116\n",
            "Epoch: 5 Train Loss: 0.9227566166311247 Val Loss: 0.92224157\n",
            "Epoch: 6 Train Loss: 0.9214636952194393 Val Loss: 0.921183\n",
            "Epoch: 7 Train Loss: 0.9205961092415019 Val Loss: 0.9204128\n",
            "Epoch: 8 Train Loss: 0.9200264961801023 Val Loss: 0.91994697\n",
            "Epoch: 9 Train Loss: 0.9196618005760715 Val Loss: 0.91967636\n",
            "Epoch: 10 Train Loss: 0.9194333999075441 Val Loss: 0.9194715\n"
          ]
        }
      ]
    },
    {
      "cell_type": "markdown",
      "source": [
        "# Starter"
      ],
      "metadata": {
        "id": "QA47HxoXJ7ia"
      },
      "id": "QA47HxoXJ7ia"
    },
    {
      "cell_type": "code",
      "execution_count": null,
      "id": "d11f3eac",
      "metadata": {
        "id": "d11f3eac"
      },
      "outputs": [],
      "source": [
        "# 1st part: implement coupling layer\n",
        "# - split input\n",
        "# - implement y1 = x1, y2 = x2 + m(y1)   (forward)\n",
        "# - implement backward\n",
        "\n",
        "\n",
        "# one way to split could be\n",
        "x1, x2 = tf.split(x, 2, axis=-1)\n",
        "y1, y2 = whatever_the_coupling_layer_does(x1, x2)\n",
        "y =  tf.concat([y1, y2], axis=-1)\n",
        "\n",
        "# this is not so good, since it splits the data right through the middle.\n",
        "# if the data has spatial relations, like images, this means the model\n",
        "# conditions, say, the upper half of the image on the lower half, and vice versa.\n",
        "# these long-range dependencies are hard to model.\n",
        "\n",
        "# another option could be an even-odd split:\n",
        "def split_even_odd(inp):\n",
        "    even_inds = tf.range(0, inp.shape[1], 2)\n",
        "    odd_inds = tf.range(1, inp.shape[1], 2)\n",
        "\n",
        "    even = tf.gather(inp, even_inds, axis=1)\n",
        "    odd = tf.gather(inp, odd_inds, axis=1)\n",
        "\n",
        "    # process even and odd parts separately...\n",
        "    ...\n",
        "    \n",
        "    # combine\n",
        "    together = tf.stack([even_output, odd_output], axis=-1)\n",
        "    return tf.reshape(together, tf.shape(inp))\n",
        "    "
      ]
    },
    {
      "cell_type": "code",
      "execution_count": null,
      "id": "1019f718",
      "metadata": {
        "id": "1019f718"
      },
      "outputs": [],
      "source": [
        "import tensorflow_probability as tfp\n",
        "tfd = tfp.distributions\n",
        "import tensorflow as tf"
      ]
    },
    {
      "cell_type": "code",
      "execution_count": null,
      "id": "d11fc6a4",
      "metadata": {
        "id": "d11fc6a4"
      },
      "outputs": [],
      "source": [
        "# 2nd part: NICE model\n",
        "# - stack a bunch of coupling layers\n",
        "# - switch x1, x2 for each layer\n",
        "# - forward: apply coupling layers\n",
        "# - backward: apply backward coupling layers (in reverse)\n",
        "\n",
        "# - rescaling:\n",
        "# - create d-dimensional vector (model weight)\n",
        "# - forward: multiply x * exp(vector) after applying coupling layers\n",
        "# - backwards: x / vector (or x * tf.exp(-vector)) BEFORE applying reverse coupling layers\n",
        "\n",
        "\n",
        "# - training: map x -> h using NICE model\n",
        "# - compute log_p_simple(h)\n",
        "# - add log determinant of jacobian: simply sum of scaling values\n",
        "# use -log_likelihood as loss\n",
        "\n",
        "# a note on simple distributions.\n",
        "# you should use tfd = tfp.distributions...\n",
        "input_dim = 12  # example\n",
        "batch_size = 8\n",
        "dummy_data = tf.random.normal((batch_size, input_dim))\n",
        "\n",
        "simple_distribution = tfd.Normal(loc=tf.zeros((input_dim,)), scale=tf.ones((input_dim,)))\n",
        "log_p_simple = simple_distribution.log_prob(dummy_data)\n",
        "# ... this will return a batch x dim matrix. then SUM over axis 1 (data dimension)! average over batch axis!\n",
        "log_p_simple = tf.reduce_sum(log_p_simple, axis=1)\n",
        "print(log_p_simple)\n",
        "\n",
        "# alternatively: use multivariate distribution.\n",
        "# this returns one prob per entry.\n",
        "simple_distribution = tfd.MultivariateNormalDiag(loc=tf.zeros((input_dim,)))\n",
        "print(simple_distribution.log_prob(dummy_data))\n",
        "\n",
        "print(\"Same results!\")\n",
        "\n",
        "# just don't mix it up!!! I had a bug where I was using multivariate, but summing over the last dimension.\n",
        "# this resulted in summing my loss over the batch axis instead of averaging.\n",
        "# that's bad, because your effective learning rate is MUCH higher than expected.\n",
        "\n",
        "# the paper proses using tfd.Logistic instead. that does not have a multivariate version AFAIK,\n",
        "# so you will have to use the first option."
      ]
    },
    {
      "cell_type": "code",
      "source": [
        "# finally, here is a sample toy dataset.\n",
        "# it's a 2D parabola kinda thing.\n",
        "# you can use this to test your flow models.\n",
        "# even a simple model like NICE should be able to fit this!\n",
        "n_samples = 2048\n",
        "x2_dist = tfd.Normal(loc=0., scale=0.5)\n",
        "x2_samples = x2_dist.sample(n_samples)\n",
        "x1 = tfd.Normal(loc=1. * tf.square(x2_samples),\n",
        "                scale=0.1*tf.ones(n_samples, dtype=tf.float32))\n",
        "x1_samples = x1.sample()\n",
        "x_samples = tf.stack([x1_samples, x2_samples], axis=1)\n",
        "\n",
        "as_np = x_samples.numpy()\n",
        "plt.scatter(as_np[:, 0], as_np[:, 1])\n",
        "a = plt.gca()\n",
        "plt.show()\n",
        "\n",
        "\n",
        "# x_samples it the dataset!\n",
        "# NOTE that I say in the assignment that LayerNorm > BatchNorm for these models apparently.\n",
        "# but for these simple models with very low data dimensionality, it appears layernorm causes issues sometimes.\n",
        "# so maybe leave normalization out completely."
      ],
      "metadata": {
        "id": "m6p6vZYWItkW"
      },
      "id": "m6p6vZYWItkW",
      "execution_count": null,
      "outputs": []
    }
  ],
  "metadata": {
    "kernelspec": {
      "display_name": "Python 3",
      "name": "python3"
    },
    "language_info": {
      "codemirror_mode": {
        "name": "ipython",
        "version": 3
      },
      "file_extension": ".py",
      "mimetype": "text/x-python",
      "name": "python",
      "nbconvert_exporter": "python",
      "pygments_lexer": "ipython3",
      "version": "3.8.10"
    },
    "colab": {
      "provenance": [],
      "gpuType": "T4",
      "collapsed_sections": [
        "QA47HxoXJ7ia"
      ]
    },
    "accelerator": "GPU"
  },
  "nbformat": 4,
  "nbformat_minor": 5
}